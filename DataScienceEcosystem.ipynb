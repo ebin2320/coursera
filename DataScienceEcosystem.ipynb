{
 "cells": [
  {
   "cell_type": "markdown",
   "id": "3da83f25-80fa-4c44-bd8d-3bbaf05ce95d",
   "metadata": {},
   "source": [
    "# Data Science Tools and Ecosystem "
   ]
  },
  {
   "cell_type": "markdown",
   "id": "ece964c3-402f-4e49-936d-86e8fcd19683",
   "metadata": {},
   "source": [
    "In this notebook, Data Science Tools and Ecosystem are summarized."
   ]
  },
  {
   "cell_type": "markdown",
   "id": "750163ce-1858-4782-becd-fc8d55afa230",
   "metadata": {},
   "source": [
    "**Objectives:**\n",
    "\n",
    "* List popular languages for Data Science\n",
    "* List popular libraries for Data Science\n",
    "* List popular tools for Data Science\n",
    "* Create single column table"
   ]
  },
  {
   "cell_type": "markdown",
   "id": "c67cb39d-844a-474b-92c7-46952280b7d1",
   "metadata": {},
   "source": [
    "Some of the popular languages that Data Scientists use are:\n",
    "1. Python\n",
    "2. R\n",
    "3. Java\n",
    "4. Scala\n",
    "5. SQL"
   ]
  },
  {
   "cell_type": "markdown",
   "id": "7e33d8dd-66a5-4271-a766-be3e6f64b9bb",
   "metadata": {},
   "source": [
    "Some of the commonly used libraries used by Data Scientists include:\n",
    "1. Maltplotlib\n",
    "2. ggplot2\n",
    "3. scikit-learn"
   ]
  },
  {
   "cell_type": "markdown",
   "id": "e66b4475-9344-4cdd-b993-52e62ff1b288",
   "metadata": {},
   "source": [
    "|Data Science Tools|\n",
    "|------------------|\n",
    "|Hadoop|\n",
    "|Tensorflow|\n",
    "|ggplot2|\n",
    "|MLPlot|"
   ]
  },
  {
   "cell_type": "markdown",
   "id": "8b86ed4f-7bd4-4f27-9556-07ca15d4263f",
   "metadata": {},
   "source": [
    "### Below are a few examples of evaluating arithmetic expressions in Python"
   ]
  },
  {
   "cell_type": "code",
   "execution_count": 5,
   "id": "4d8c97dd-67dd-4853-9ff7-e91e8d76c949",
   "metadata": {},
   "outputs": [
    {
     "name": "stdout",
     "output_type": "stream",
     "text": [
      "17\n"
     ]
    }
   ],
   "source": [
    "#This a simple arithmetic expression to mutiply then add integers\n",
    "print((3*4)+5)"
   ]
  },
  {
   "cell_type": "code",
   "execution_count": 6,
   "id": "b54812dc-1b8b-46f4-825d-c4cd86983dcd",
   "metadata": {},
   "outputs": [
    {
     "name": "stdout",
     "output_type": "stream",
     "text": [
      "200 minutes is equal to 3.3333333333333335 hours\n"
     ]
    }
   ],
   "source": [
    "#This will convert 200 minutes to hours by diving by 60\n",
    "min=200.0\n",
    "hr= min/60.0\n",
    "print(\"200 minutes is equal to\",hr, \"hours\")"
   ]
  },
  {
   "cell_type": "markdown",
   "id": "71af5749-1b96-4e1a-8d79-c23e9f36b157",
   "metadata": {},
   "source": [
    "## Author \n",
    "Ebin Thankachan"
   ]
  }
 ],
 "metadata": {
  "kernelspec": {
   "display_name": "Python",
   "language": "python",
   "name": "conda-env-python-py"
  },
  "language_info": {
   "codemirror_mode": {
    "name": "ipython",
    "version": 3
   },
   "file_extension": ".py",
   "mimetype": "text/x-python",
   "name": "python",
   "nbconvert_exporter": "python",
   "pygments_lexer": "ipython3",
   "version": "3.7.12"
  }
 },
 "nbformat": 4,
 "nbformat_minor": 5
}
